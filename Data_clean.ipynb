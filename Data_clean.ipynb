{
 "cells": [
  {
   "cell_type": "markdown",
   "id": "825d3a2a-e3bd-47d7-94cb-e89e2d02aeb7",
   "metadata": {},
   "source": [
    "# Cleaning Data\n",
    "## Dataset Issues\n",
    "\n",
    "- bpm fehlen DONE\n",
    "- artists haben lücken DONE\n",
    "- streams haben lücken DONE\n",
    "- key missing sometimes DONE\n",
    "- duplicate - 20 Stück DONE\n",
    "- shazam charts sind fragwürdig ?  \n",
    "- streams --> string data wrong line 576 DONE\n",
    "- fehlerhafte artist name line 176 ? \n",
    "- key x ist falsch DONE"
   ]
  },
  {
   "cell_type": "code",
   "execution_count": 109,
   "id": "8aeb0fb8-68e5-4c2e-8ff2-f396b2d7bc33",
   "metadata": {},
   "outputs": [],
   "source": [
    "import pandas as pd \n",
    "import numpy as np"
   ]
  },
  {
   "cell_type": "code",
   "execution_count": 110,
   "id": "6243a519-b43f-4078-9d1b-046ad9646e44",
   "metadata": {},
   "outputs": [],
   "source": [
    "# load data\n",
    "df = pd.read_csv(\"Daten/songs.csv\")"
   ]
  },
  {
   "cell_type": "code",
   "execution_count": 111,
   "id": "3f7bcbfc-e8b4-424c-8795-924d29af5fe9",
   "metadata": {},
   "outputs": [],
   "source": [
    "# remove every row with incomplete data\n",
    "df = df.dropna()"
   ]
  },
  {
   "cell_type": "code",
   "execution_count": 112,
   "id": "b5ddc5ae-7cb7-41de-b4ac-9f333e6dde01",
   "metadata": {},
   "outputs": [],
   "source": [
    "# remove bpm row --> no data\n",
    "df = df.drop(columns=['bpm'])"
   ]
  },
  {
   "cell_type": "code",
   "execution_count": 113,
   "id": "be29d165-8a4d-42f2-be68-e627b8136ec2",
   "metadata": {},
   "outputs": [],
   "source": [
    "# removing Duplicates\n",
    "df.drop_duplicates(inplace = True)"
   ]
  },
  {
   "cell_type": "code",
   "execution_count": 114,
   "id": "fd0b58d1-c1e0-4cbf-ba89-88903ca5428d",
   "metadata": {},
   "outputs": [],
   "source": [
    "# removing streams without an int type \n",
    "# checked for other rows without correct format --> only streams\n",
    "df['streams'] = pd.to_numeric(df['streams'], errors = 'coerce')\n",
    "df.dropna(inplace = True)"
   ]
  },
  {
   "cell_type": "code",
   "execution_count": 115,
   "id": "206e0186-c1f9-4c85-8a90-9fcb561dd694",
   "metadata": {},
   "outputs": [],
   "source": [
    "# removing key \"X\" --> not valid\n",
    "df = df.drop(df[df['key'] == 'X'].index)"
   ]
  },
  {
   "cell_type": "code",
   "execution_count": 116,
   "id": "2e7ed63d-9776-4de4-9114-69295cbf400f",
   "metadata": {},
   "outputs": [
    {
     "name": "stdout",
     "output_type": "stream",
     "text": [
      "<class 'pandas.core.frame.DataFrame'>\n",
      "Index: 435 entries, 0 to 951\n",
      "Data columns (total 23 columns):\n",
      " #   Column                Non-Null Count  Dtype  \n",
      "---  ------                --------------  -----  \n",
      " 0   track_name            435 non-null    object \n",
      " 1   artist(s)_name        435 non-null    object \n",
      " 2   artist_count          435 non-null    int64  \n",
      " 3   released_year         435 non-null    int64  \n",
      " 4   released_month        435 non-null    int64  \n",
      " 5   released_day          435 non-null    int64  \n",
      " 6   in_spotify_playlists  435 non-null    int64  \n",
      " 7   in_spotify_charts     435 non-null    int64  \n",
      " 8   streams               435 non-null    float64\n",
      " 9   in_apple_playlists    435 non-null    int64  \n",
      " 10  in_apple_charts       435 non-null    int64  \n",
      " 11  in_deezer_playlists   435 non-null    object \n",
      " 12  in_deezer_charts      435 non-null    int64  \n",
      " 13  in_shazam_charts      435 non-null    object \n",
      " 14  key                   435 non-null    object \n",
      " 15  mode                  435 non-null    object \n",
      " 16  danceability_%        435 non-null    int64  \n",
      " 17  valence_%             435 non-null    int64  \n",
      " 18  energy_%              435 non-null    int64  \n",
      " 19  acousticness_%        435 non-null    int64  \n",
      " 20  instrumentalness_%    435 non-null    int64  \n",
      " 21  liveness_%            435 non-null    int64  \n",
      " 22  speechiness_%         435 non-null    int64  \n",
      "dtypes: float64(1), int64(16), object(6)\n",
      "memory usage: 81.6+ KB\n"
     ]
    }
   ],
   "source": [
    "df.info()"
   ]
  },
  {
   "cell_type": "code",
   "execution_count": 117,
   "id": "dd052576-382b-4ca7-9bfe-594c079930a5",
   "metadata": {},
   "outputs": [],
   "source": [
    "df.to_csv('cleaned_data.csv', index=False)"
   ]
  }
 ],
 "metadata": {
  "kernelspec": {
   "display_name": "Python 3 (ipykernel)",
   "language": "python",
   "name": "python3"
  },
  "language_info": {
   "codemirror_mode": {
    "name": "ipython",
    "version": 3
   },
   "file_extension": ".py",
   "mimetype": "text/x-python",
   "name": "python",
   "nbconvert_exporter": "python",
   "pygments_lexer": "ipython3",
   "version": "3.11.6"
  }
 },
 "nbformat": 4,
 "nbformat_minor": 5
}
